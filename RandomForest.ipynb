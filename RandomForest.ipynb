{
  "nbformat": 4,
  "nbformat_minor": 0,
  "metadata": {
    "colab": {
      "provenance": [],
      "authorship_tag": "ABX9TyMvIkTkDzy7MVTwn3+afnOG",
      "include_colab_link": true
    },
    "kernelspec": {
      "name": "python3",
      "display_name": "Python 3"
    },
    "language_info": {
      "name": "python"
    }
  },
  "cells": [
    {
      "cell_type": "markdown",
      "metadata": {
        "id": "view-in-github",
        "colab_type": "text"
      },
      "source": [
        "<a href=\"https://colab.research.google.com/github/parmimaher/RandomForestClassifier/blob/main/RandomForest.ipynb\" target=\"_parent\"><img src=\"https://colab.research.google.com/assets/colab-badge.svg\" alt=\"Open In Colab\"/></a>"
      ]
    },
    {
      "cell_type": "code",
      "execution_count": null,
      "metadata": {
        "colab": {
          "base_uri": "https://localhost:8080/"
        },
        "id": "mSMEGUCjg7qA",
        "outputId": "97114c67-f372-4809-f88a-e44cf44424e7"
      },
      "outputs": [
        {
          "output_type": "stream",
          "name": "stdout",
          "text": [
            "Accuracy: 0.9767441860465116\n",
            "[1 0 0 1 1 0 0 1 1 0 1 0 0 0 0 0 0 1 0 1 0 1 0 1 1 0 1 1 1 0 0 1 1 0 0 1 0\n",
            " 1 1 0 0 1 0]\n",
            "Accuracy: 0.9767441860465116\n",
            "[1 0 0 1 1 0 0 1 1 0 1 0 0 0 0 0 0 1 0 1 0 1 0 1 1 0 1 1 1 0 0 1 1 0 0 1 0\n",
            " 1 1 0 0 1 0]\n",
            "Accuracy: 0.9767441860465116\n",
            "[1 0 0 1 1 0 0 1 1 0 1 0 0 0 0 0 0 1 0 1 0 1 0 1 1 0 1 1 1 0 0 1 1 0 0 1 0\n",
            " 1 1 0 0 1 0]\n",
            "Accuracy: 0.9767441860465116\n",
            "[1 0 0 1 1 0 0 1 1 0 1 0 0 0 0 0 0 1 0 1 0 1 0 1 1 0 1 1 1 0 0 1 1 0 0 1 0\n",
            " 1 1 0 0 1 0]\n",
            "Accuracy: 0.9767441860465116\n",
            "[1 0 0 1 1 0 0 1 1 0 1 0 0 0 0 0 0 1 0 1 0 1 0 1 1 0 1 1 1 0 0 1 1 0 0 1 0\n",
            " 1 1 0 0 1 0]\n",
            "Accuracy: 0.9767441860465116\n",
            "[1 0 0 1 1 0 0 1 1 0 1 0 0 0 0 0 0 1 0 1 0 1 0 1 1 0 1 1 1 0 0 1 1 0 0 1 0\n",
            " 1 1 0 0 1 0]\n",
            "Accuracy: 0.9767441860465116\n",
            "[1 0 0 1 1 0 0 1 1 0 1 0 0 0 0 0 0 1 0 1 0 1 0 1 1 0 1 1 1 0 0 1 1 0 0 1 0\n",
            " 1 1 0 0 1 0]\n",
            "Accuracy: 0.9767441860465116\n",
            "[1 0 0 1 1 0 0 1 1 0 1 0 0 0 0 0 0 1 0 1 0 1 0 1 1 0 1 1 1 0 0 1 1 0 0 1 0\n",
            " 1 1 0 0 1 0]\n",
            "Accuracy: 0.9767441860465116\n",
            "[1 0 0 1 1 0 0 1 1 0 1 0 0 0 0 0 0 1 0 1 0 1 0 1 1 0 1 1 1 0 0 1 1 0 0 1 0\n",
            " 1 1 0 0 1 0]\n"
          ]
        }
      ],
      "source": [
        "import numpy as np\n",
        "import pandas as pd\n",
        "\n",
        "from sklearn.model_selection import train_test_split\n",
        "from sklearn.ensemble import RandomForestClassifier\n",
        "from sklearn.metrics import accuracy_score\n",
        "\n",
        "procent_in_bag = np.array ([0.25 , 0.5 , 0.85]) # cate linii iau din date\n",
        "nr_dimensiuni = np.array ([0.1 , 0.5 , 0.8]) # cate coloane iau din date\n",
        "\n",
        "for i in range (len(procent_in_bag)) :\n",
        "    for j in range (len(nr_dimensiuni)) :\n",
        "\n",
        "        data = pd.read_csv(r\"divorce1.csv\") # incarc baza de date\n",
        "\n",
        "        np.random.seed(10) # cat de random aleg datele\n",
        "\n",
        "        x = data.drop(\"Class\", axis=1) # separ coloana binara\n",
        "        y = data[\"Class\"] # salvez coloana in alta variabila\n",
        "        x_train, x_test, y_train, y_test = train_test_split(x, y, stratify=y, test_size = 0.25, random_state=None) # separ datele de testare de cele de antrenare\n",
        "\n",
        "        classifier = RandomForestClassifier(n_estimators = 10, max_samples = procent_in_bag[i], max_features = nr_dimensiuni[j])\n",
        "        classifier.fit(x_train, y_train) # incepe antrenarea\n",
        "        y_pred = classifier.predict(x_test)\n",
        "        print(\"Accuracy:\", accuracy_score(y_test, y_pred)) # acuratetea pe setul de testare = cat la suta din ce a prezis e corect\n",
        "        print(y_pred) # predictia = ce a prezis in functie de cum a invatat dupa antrenare"
      ]
    }
  ]
}